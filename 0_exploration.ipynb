{
 "cells": [
  {
   "cell_type": "code",
   "execution_count": 3,
   "metadata": {},
   "outputs": [],
   "source": [
    "from datetime import date\n",
    "\n",
    "from cash_prices import get_cash_index\n",
    "from data.hg200 import get_purchases\n",
    "\n",
    "# download the daily slaughter report for 2018 and compute the CME Lean Hog Index\n",
    "# the download takes some time, and you only need to run this cell once per session\n",
    "\n",
    "start_date = date(2018, 1, 1)\n",
    "cash_prices = get_cash_index(start_date=start_date)"
   ]
  },
  {
   "cell_type": "code",
   "execution_count": 4,
   "metadata": {},
   "outputs": [
    {
     "data": {
      "text/html": [
       "<div>\n",
       "<style scoped>\n",
       "    .dataframe tbody tr th:only-of-type {\n",
       "        vertical-align: middle;\n",
       "    }\n",
       "\n",
       "    .dataframe tbody tr th {\n",
       "        vertical-align: top;\n",
       "    }\n",
       "\n",
       "    .dataframe thead th {\n",
       "        text-align: right;\n",
       "    }\n",
       "</style>\n",
       "<table border=\"1\" class=\"dataframe\">\n",
       "  <thead>\n",
       "    <tr style=\"text-align: right;\">\n",
       "      <th></th>\n",
       "      <th>price</th>\n",
       "      <th>price_change</th>\n",
       "      <th>index</th>\n",
       "      <th>index_change</th>\n",
       "    </tr>\n",
       "    <tr>\n",
       "      <th>date</th>\n",
       "      <th></th>\n",
       "      <th></th>\n",
       "      <th></th>\n",
       "      <th></th>\n",
       "    </tr>\n",
       "  </thead>\n",
       "  <tbody>\n",
       "    <tr>\n",
       "      <th>2018-08-14</th>\n",
       "      <td>54.725544</td>\n",
       "      <td>-1.024895</td>\n",
       "      <td>55.233887</td>\n",
       "      <td>-1.578275</td>\n",
       "    </tr>\n",
       "    <tr>\n",
       "      <th>2018-08-15</th>\n",
       "      <td>53.730818</td>\n",
       "      <td>-0.994726</td>\n",
       "      <td>54.212564</td>\n",
       "      <td>-1.021323</td>\n",
       "    </tr>\n",
       "    <tr>\n",
       "      <th>2018-08-16</th>\n",
       "      <td>52.147616</td>\n",
       "      <td>-1.583203</td>\n",
       "      <td>52.935702</td>\n",
       "      <td>-1.276862</td>\n",
       "    </tr>\n",
       "    <tr>\n",
       "      <th>2018-08-17</th>\n",
       "      <td>51.029970</td>\n",
       "      <td>-1.117646</td>\n",
       "      <td>51.506186</td>\n",
       "      <td>-1.429516</td>\n",
       "    </tr>\n",
       "    <tr>\n",
       "      <th>2018-08-20</th>\n",
       "      <td>50.251729</td>\n",
       "      <td>-0.778241</td>\n",
       "      <td>50.708455</td>\n",
       "      <td>-0.797731</td>\n",
       "    </tr>\n",
       "  </tbody>\n",
       "</table>\n",
       "</div>"
      ],
      "text/plain": [
       "                price  price_change      index  index_change\n",
       "date                                                        \n",
       "2018-08-14  54.725544     -1.024895  55.233887     -1.578275\n",
       "2018-08-15  53.730818     -0.994726  54.212564     -1.021323\n",
       "2018-08-16  52.147616     -1.583203  52.935702     -1.276862\n",
       "2018-08-17  51.029970     -1.117646  51.506186     -1.429516\n",
       "2018-08-20  50.251729     -0.778241  50.708455     -0.797731"
      ]
     },
     "execution_count": 4,
     "metadata": {},
     "output_type": "execute_result"
    }
   ],
   "source": [
    "# what are the last 5 days of the cash index?\n",
    "cash_prices.tail()"
   ]
  },
  {
   "cell_type": "code",
   "execution_count": 5,
   "metadata": {},
   "outputs": [
    {
     "data": {
      "text/plain": [
       "<matplotlib.axes._subplots.AxesSubplot at 0x7f8fa4bb7438>"
      ]
     },
     "execution_count": 5,
     "metadata": {},
     "output_type": "execute_result"
    },
    {
     "data": {
      "image/png": "[encoded data removed]",
      "text/plain": [
       "<Figure size 432x288 with 1 Axes>"
      ]
     },
     "metadata": {},
     "output_type": "display_data"
    }
   ],
   "source": [
    "%matplotlib inline\n",
    "\n",
    "# plot it on a chart\n",
    "cash_prices['index'].plot()"
   ]
  },
  {
   "cell_type": "code",
   "execution_count": 7,
   "metadata": {},
   "outputs": [],
   "source": [
    "from data.model.purchase import PurchaseRecord\n",
    "\n",
    "from pandas import DataFrame\n",
    "\n",
    "# download the daily purchased swine report for 2018 from the USDA\n",
    "# the download takes some time, and you only need to run this cell once per session\n",
    "\n",
    "purchases = DataFrame.from_records(get_purchases(start_date=start_date), columns=PurchaseRecord._fields)"
   ]
  },
  {
   "cell_type": "code",
   "execution_count": 10,
   "metadata": {},
   "outputs": [
    {
     "data": {
      "text/html": [
       "<div>\n",
       "<style scoped>\n",
       "    .dataframe tbody tr th:only-of-type {\n",
       "        vertical-align: middle;\n",
       "    }\n",
       "\n",
       "    .dataframe tbody tr th {\n",
       "        vertical-align: top;\n",
       "    }\n",
       "\n",
       "    .dataframe thead th {\n",
       "        text-align: right;\n",
       "    }\n",
       "</style>\n",
       "<table border=\"1\" class=\"dataframe\">\n",
       "  <thead>\n",
       "    <tr style=\"text-align: right;\">\n",
       "      <th></th>\n",
       "      <th>date</th>\n",
       "      <th>seller</th>\n",
       "      <th>arrangement</th>\n",
       "      <th>basis</th>\n",
       "      <th>head_count</th>\n",
       "      <th>avg_price</th>\n",
       "      <th>low_price</th>\n",
       "      <th>high_price</th>\n",
       "    </tr>\n",
       "  </thead>\n",
       "  <tbody>\n",
       "    <tr>\n",
       "      <th>0</th>\n",
       "      <td>2018-08-20</td>\n",
       "      <td>Seller.ALL</td>\n",
       "      <td>Arrangement.NEGOTIATED</td>\n",
       "      <td>Basis.CARCASS</td>\n",
       "      <td>12295</td>\n",
       "      <td>40.18</td>\n",
       "      <td>37.00</td>\n",
       "      <td>41.00</td>\n",
       "    </tr>\n",
       "    <tr>\n",
       "      <th>1</th>\n",
       "      <td>2018-08-20</td>\n",
       "      <td>Seller.ALL</td>\n",
       "      <td>Arrangement.NEGOTIATED_FORMULA</td>\n",
       "      <td>Basis.CARCASS</td>\n",
       "      <td>0</td>\n",
       "      <td>NaN</td>\n",
       "      <td>NaN</td>\n",
       "      <td>NaN</td>\n",
       "    </tr>\n",
       "    <tr>\n",
       "      <th>2</th>\n",
       "      <td>2018-08-20</td>\n",
       "      <td>Seller.ALL</td>\n",
       "      <td>Arrangement.ALL_NEGOTIATED</td>\n",
       "      <td>Basis.CARCASS</td>\n",
       "      <td>12295</td>\n",
       "      <td>NaN</td>\n",
       "      <td>NaN</td>\n",
       "      <td>NaN</td>\n",
       "    </tr>\n",
       "    <tr>\n",
       "      <th>3</th>\n",
       "      <td>2018-08-20</td>\n",
       "      <td>Seller.ALL</td>\n",
       "      <td>Arrangement.MARKET_FORMULA</td>\n",
       "      <td>Basis.CARCASS</td>\n",
       "      <td>138617</td>\n",
       "      <td>47.38</td>\n",
       "      <td>38.21</td>\n",
       "      <td>63.57</td>\n",
       "    </tr>\n",
       "    <tr>\n",
       "      <th>4</th>\n",
       "      <td>2018-08-20</td>\n",
       "      <td>Seller.ALL</td>\n",
       "      <td>Arrangement.NEGOTIATED</td>\n",
       "      <td>Basis.LIVE</td>\n",
       "      <td>911</td>\n",
       "      <td>31.72</td>\n",
       "      <td>27.80</td>\n",
       "      <td>34.00</td>\n",
       "    </tr>\n",
       "    <tr>\n",
       "      <th>5</th>\n",
       "      <td>2018-08-20</td>\n",
       "      <td>Seller.ALL</td>\n",
       "      <td>Arrangement.NEGOTIATED_FORMULA</td>\n",
       "      <td>Basis.LIVE</td>\n",
       "      <td>1494</td>\n",
       "      <td>NaN</td>\n",
       "      <td>NaN</td>\n",
       "      <td>NaN</td>\n",
       "    </tr>\n",
       "  </tbody>\n",
       "</table>\n",
       "</div>"
      ],
      "text/plain": [
       "        date      seller                     arrangement          basis  \\\n",
       "0 2018-08-20  Seller.ALL          Arrangement.NEGOTIATED  Basis.CARCASS   \n",
       "1 2018-08-20  Seller.ALL  Arrangement.NEGOTIATED_FORMULA  Basis.CARCASS   \n",
       "2 2018-08-20  Seller.ALL      Arrangement.ALL_NEGOTIATED  Basis.CARCASS   \n",
       "3 2018-08-20  Seller.ALL      Arrangement.MARKET_FORMULA  Basis.CARCASS   \n",
       "4 2018-08-20  Seller.ALL          Arrangement.NEGOTIATED     Basis.LIVE   \n",
       "5 2018-08-20  Seller.ALL  Arrangement.NEGOTIATED_FORMULA     Basis.LIVE   \n",
       "\n",
       "   head_count  avg_price  low_price  high_price  \n",
       "0       12295      40.18      37.00       41.00  \n",
       "1           0        NaN        NaN         NaN  \n",
       "2       12295        NaN        NaN         NaN  \n",
       "3      138617      47.38      38.21       63.57  \n",
       "4         911      31.72      27.80       34.00  \n",
       "5        1494        NaN        NaN         NaN  "
      ]
     },
     "execution_count": 10,
     "metadata": {},
     "output_type": "execute_result"
    }
   ],
   "source": [
    "purchases.head(6)"
   ]
  },
  {
   "cell_type": "code",
   "execution_count": null,
   "metadata": {},
   "outputs": [],
   "source": []
  }
 ],
 "metadata": {
  "kernelspec": {
   "display_name": "Python 3",
   "language": "python",
   "name": "python3"
  },
  "language_info": {
   "codemirror_mode": {
    "name": "ipython",
    "version": 3
   },
   "file_extension": ".py",
   "mimetype": "text/x-python",
   "name": "python",
   "nbconvert_exporter": "python",
   "pygments_lexer": "ipython3",
   "version": "3.7.0"
  }
 },
 "nbformat": 4,
 "nbformat_minor": 2
}
